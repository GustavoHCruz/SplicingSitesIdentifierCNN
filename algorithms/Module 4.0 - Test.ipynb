{
 "cells": [
  {
   "cell_type": "code",
   "execution_count": 1,
   "metadata": {},
   "outputs": [],
   "source": [
    "import pickle\n",
    "import numpy as np\n",
    "\n",
    "from tensorflow import keras"
   ]
  },
  {
   "cell_type": "code",
   "execution_count": 2,
   "metadata": {},
   "outputs": [],
   "source": [
    "mod3_filename_input = \"actin\"\n",
    "model_filename_output = \"actin\""
   ]
  },
  {
   "cell_type": "code",
   "execution_count": 3,
   "metadata": {},
   "outputs": [],
   "source": [
    "file = open(\"../assets/mod3/\"+mod3_filename_input+\".mod3\", \"rb\")\n",
    "data = pickle.load(file)"
   ]
  },
  {
   "cell_type": "code",
   "execution_count": 4,
   "metadata": {},
   "outputs": [
    {
     "name": "stderr",
     "output_type": "stream",
     "text": [
      "WARNING:absl:Compiled the loaded model, but the compiled metrics have yet to be built. `model.compile_metrics` will be empty until you train or evaluate the model.\n"
     ]
    }
   ],
   "source": [
    "model = keras.models.load_model(f\"../assets/models/actin.h5\")"
   ]
  },
  {
   "cell_type": "code",
   "execution_count": 5,
   "metadata": {},
   "outputs": [],
   "source": [
    "samples = data['train_samples'] + data['test_samples']\n",
    "labels =  data['train_labels'] + data['test_labels']"
   ]
  },
  {
   "cell_type": "code",
   "execution_count": 6,
   "metadata": {},
   "outputs": [
    {
     "data": {
      "text/plain": [
       "12089"
      ]
     },
     "execution_count": 6,
     "metadata": {},
     "output_type": "execute_result"
    }
   ],
   "source": [
    "len(samples)"
   ]
  },
  {
   "cell_type": "code",
   "execution_count": 7,
   "metadata": {},
   "outputs": [],
   "source": [
    "width = 121\n",
    "height = 4\n",
    "channels = 1\n",
    "input_shape = (width, height, channels)"
   ]
  },
  {
   "cell_type": "code",
   "execution_count": 8,
   "metadata": {},
   "outputs": [],
   "source": [
    "samples_resized = []\n",
    "for sample in samples:\n",
    "  resized = sample.resize((height, width))\n",
    "  samples_resized.append(np.array(resized))"
   ]
  },
  {
   "cell_type": "code",
   "execution_count": 9,
   "metadata": {},
   "outputs": [],
   "source": [
    "samples = np.array(samples_resized, dtype='float32')\n",
    "labels = np.array(labels, dtype='float32')"
   ]
  },
  {
   "cell_type": "code",
   "execution_count": 10,
   "metadata": {},
   "outputs": [
    {
     "name": "stdout",
     "output_type": "stream",
     "text": [
      "378/378 - 1s - 2ms/step - accuracy: 0.5881 - loss: 0.0215 - precision: 0.9993 - recall: 0.9983\n"
     ]
    }
   ],
   "source": [
    "test_loss = model.evaluate(samples,  labels, verbose=2)"
   ]
  },
  {
   "cell_type": "code",
   "execution_count": 11,
   "metadata": {},
   "outputs": [
    {
     "name": "stdout",
     "output_type": "stream",
     "text": [
      "\u001b[1m378/378\u001b[0m \u001b[32m━━━━━━━━━━━━━━━━━━━━\u001b[0m\u001b[37m\u001b[0m \u001b[1m1s\u001b[0m 2ms/step\n"
     ]
    }
   ],
   "source": [
    "predictions = model.predict(samples)"
   ]
  },
  {
   "cell_type": "code",
   "execution_count": 12,
   "metadata": {},
   "outputs": [
    {
     "name": "stdout",
     "output_type": "stream",
     "text": [
      "Total Accuracy:0.9986 - Introns Hits:0.9990 - Neither Hits:0.9983\n"
     ]
    }
   ],
   "source": [
    "total_samples = samples.shape[0]\n",
    "\n",
    "hits = 0\n",
    "introns_hits = 0\n",
    "total_introns = 0\n",
    "neither_hits = 0\n",
    "total_neither = 0\n",
    "for i in range(total_samples):\n",
    "\tif labels[i] == 0.0:\n",
    "\t\ttotal_introns += 1\n",
    "\telse:\n",
    "\t\ttotal_neither += 1\n",
    "\n",
    "\tprediction = round(predictions[i][0])\n",
    "\t\n",
    "\tif prediction == labels[i]:\n",
    "\t\thits += 1\n",
    "\t\tif prediction == 0:\n",
    "\t\t\tintrons_hits += 1\n",
    "\t\telse:\n",
    "\t\t\tneither_hits += 1\n",
    "\n",
    "print(f\"Total Accuracy:{hits/total_samples:.4f} - Introns Hits:{introns_hits/(total_introns or 1):.4f} - Neither Hits:{neither_hits/(total_neither or 1):.4f}\")\n"
   ]
  },
  {
   "cell_type": "code",
   "execution_count": 13,
   "metadata": {},
   "outputs": [
    {
     "name": "stdout",
     "output_type": "stream",
     "text": [
      "4952\n",
      "4947\n",
      "7137\n",
      "7125\n"
     ]
    }
   ],
   "source": [
    "print(total_introns)\n",
    "print(introns_hits)\n",
    "print(total_neither)\n",
    "print(neither_hits)"
   ]
  }
 ],
 "metadata": {
  "kernelspec": {
   "display_name": "Python 3",
   "language": "python",
   "name": "python3"
  },
  "language_info": {
   "codemirror_mode": {
    "name": "ipython",
    "version": 3
   },
   "file_extension": ".py",
   "mimetype": "text/x-python",
   "name": "python",
   "nbconvert_exporter": "python",
   "pygments_lexer": "ipython3",
   "version": "3.12.3"
  }
 },
 "nbformat": 4,
 "nbformat_minor": 2
}
